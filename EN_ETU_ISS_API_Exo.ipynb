{
 "cells": [
  {
   "cell_type": "markdown",
   "id": "e516cd71-4d45-4203-81bf-06b3a3e43471",
   "metadata": {
    "tags": [
     "en"
    ]
   },
   "source": [
    "# ISS API"
   ]
  },
  {
   "cell_type": "code",
   "execution_count": 18,
   "id": "a0353e0a-4814-470f-bc4d-e7af21e9e323",
   "metadata": {
    "tags": [
     "en"
    ]
   },
   "outputs": [],
   "source": [
    "# Use this cell to import your librairies for both exercices\n"
   ]
  },
  {
   "cell_type": "markdown",
   "id": "1fa2473f-cdf6-41f6-86bd-87ac137dfebe",
   "metadata": {
    "tags": [
     "en"
    ]
   },
   "source": [
    "## Exercice (medium)"
   ]
  },
  {
   "cell_type": "markdown",
   "id": "cb163e3f-a1aa-461f-a039-1e7e07f6ae56",
   "metadata": {
    "tags": [
     "en"
    ]
   },
   "source": [
    "The goal of this notebook is to use an API and generate a Leaflet map which indicates where is the ISS at this current time.\n",
    "\n",
    "- The API we are going to use is located here : http://api.open-notify.org/\n",
    "- The Folium documentation is here :https://python-visualization.github.io/folium/index.html but the first chapter should be enough : https://python-visualization.github.io/folium/quickstart.html\n",
    "\n",
    "**TIPS**\n",
    "\n",
    "- When you create the map use the parameters ``location`` and ``zoom_start`` so it displays automatically the zone we're looking for. \n",
    "\n",
    "**Bonus**\n",
    "\n",
    "- Modify the tooltip property of the Folium Marker so it gives you the latitude and longitude when you click on it."
   ]
  },
  {
   "cell_type": "code",
   "execution_count": 20,
   "id": "0fff2578-b5a8-41d1-96cb-c6c0b9c17bf8",
   "metadata": {},
   "outputs": [],
   "source": [
    "# Code here!"
   ]
  },
  {
   "cell_type": "markdown",
   "id": "bd171f52-dee1-439f-b38f-26aeb8d8000f",
   "metadata": {
    "tags": [
     "en"
    ]
   },
   "source": [
    "## Exercice (medium / difficult)\n",
    "\n",
    "The goal is to draw a lineshowing the trajectory of the ISS. To do so:\n",
    "\n",
    "- Create a loop that runs every 5 seconds and takes 12 measures (latitude, longitude). So your program should run 1mn. Store all this data in a list of tuples.\n",
    "- Once this is done use the Polyline function from Folium to draw the line.\n",
    "\n",
    "**TIPS**\n",
    "\n",
    "- Use the time library to make the program stop 5 seconds between each mesure.\n",
    "- Use the `color` Polyline parameter to make the line red, it's cleaner.\n",
    "- Use several Jupyter cells. Once you have the data (the coordinates), there's no need to wait 1mn every time you modify your map."
   ]
  },
  {
   "cell_type": "code",
   "execution_count": null,
   "id": "2c8cacf4-fc80-44ee-b0e8-295b392f6bad",
   "metadata": {},
   "outputs": [],
   "source": [
    "# Code here!\n",
    "\n"
   ]
  }
 ],
 "metadata": {
  "kernelspec": {
   "display_name": "Python 3 (ipykernel)",
   "language": "python",
   "name": "python3"
  },
  "language_info": {
   "codemirror_mode": {
    "name": "ipython",
    "version": 3
   },
   "file_extension": ".py",
   "mimetype": "text/x-python",
   "name": "python",
   "nbconvert_exporter": "python",
   "pygments_lexer": "ipython3",
   "version": "3.10.8"
  }
 },
 "nbformat": 4,
 "nbformat_minor": 5
}
