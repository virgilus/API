{
 "cells": [
  {
   "cell_type": "markdown",
   "id": "c6ba8557-7671-49c7-bcc6-3cdedcc95806",
   "metadata": {
    "tags": [
     "en"
    ]
   },
   "source": [
    "# API : Example with Cat Fact Ninja"
   ]
  },
  {
   "cell_type": "markdown",
   "id": "39320686-03cd-44f8-8ea7-0f5f59e263d1",
   "metadata": {
    "tags": [
     "en"
    ]
   },
   "source": [
    "## What is an API ?\n",
    "\n",
    "API stands for \"Application Programming Interface\". It's a way for different softwares to communicate with each other, as opposed to a \"user interface\" which is a way for human to communicate with a program."
   ]
  },
  {
   "cell_type": "markdown",
   "id": "c5ae88fa-ea13-44cc-bd87-b766433aca0c",
   "metadata": {
    "tags": [
     "en"
    ]
   },
   "source": [
    "## API REST\n",
    "\n",
    "A REST API (REST = \"Representational state transfer\") is a widespread type of API used when the softwares communicate through the internet as client and server. REST APIs usually share the following characteristics:"
   ]
  },
  {
   "cell_type": "markdown",
   "id": "23a88bf1-9def-4eb0-8410-b9a2ae351282",
   "metadata": {
    "tags": [
     "en"
    ]
   },
   "source": [
    "#### An API URL\n",
    "\n",
    "An API URL Path is an address that allows you to access an API and its various features. It looks like a basic website URL.\n",
    "\n",
    "Ex: ``https://catfact.ninja/``"
   ]
  },
  {
   "cell_type": "markdown",
   "id": "aa4e6ca1-d735-4a25-9e3b-04c3fdff65d4",
   "metadata": {
    "tags": [
     "en"
    ]
   },
   "source": [
    "#### Endpoint\n",
    "    \n",
    "The endpoint is the URL which gives access to a resource of an REST API.\n",
    "\n",
    "Ex : ``/fact``\n",
    "\n",
    "This endpoint allows us to use the resource \"fact\" which returns a random fact about cats."
   ]
  },
  {
   "cell_type": "markdown",
   "id": "95d09cbb-21e5-43d7-bf37-40080ae7cf81",
   "metadata": {
    "tags": [
     "en"
    ]
   },
   "source": [
    "#### Methods / Actions\n",
    "\n",
    "Each resource understands one or several methods, also called actions. The four main methods are :\n",
    "    \n",
    "- The **GET** request is used to read/retrieve data from the API, it is also the most common method.\n",
    "\n",
    "- The **POST** request is used to send data (file, form data, etc.) to the API.\n",
    "\n",
    "- The **PUT** request is used to create or modify data on the server.\n",
    "\n",
    "- The **DELETE** requests is used to delete data.\n",
    "\n",
    "When using a browser (chrome, firefox) and the HTTP protocol, **GET** is the default method."
   ]
  },
  {
   "cell_type": "markdown",
   "id": "7f12a459-20c6-4bcc-a85c-60de3bdf4c8c",
   "metadata": {
    "tags": [
     "en"
    ]
   },
   "source": [
    "#### Response\n",
    "\n",
    "When an API receives a query, it sends back a response. The reponse indicates if the query has been sucessfull and may also contain a message back. Usually the response is in a JSON (JS Object Notation) string which shares the same syntax as a python dictionnary."
   ]
  },
  {
   "cell_type": "markdown",
   "id": "198cc98c-39ff-42a5-8ee3-8854aa43aaf4",
   "metadata": {
    "tags": [
     "en"
    ]
   },
   "source": [
    "If we say to a browser to go to this address : https://catfact.ninja/fact, the message returned is:"
   ]
  },
  {
   "cell_type": "code",
   "execution_count": null,
   "id": "d59c6063-5750-47db-875a-672c313b4c2a",
   "metadata": {},
   "outputs": [],
   "source": [
    "{\"fact\":\"Owning a cat is actually proven to be beneficial for your health.\",\"length\":65}"
   ]
  },
  {
   "cell_type": "markdown",
   "id": "9b41506a-9f15-4e54-b71b-3418973c6bda",
   "metadata": {
    "tags": [
     "en"
    ]
   },
   "source": [
    "#### Parameters\n",
    "\n",
    "After having specifying the endpoint, user can give parameters to the API. It starts with a \"?\" and then takes the name of the argument , the equal symbol \"=\" and the value of the argument. In this example we can limit the length of the random cat fact using the parameter ``max_length``: \n",
    "\n",
    "https://catfact.ninja/fact?max_length=48\n",
    "\n",
    "If you press F5 to refresh your browser, you can see that no answer contains more than 48 characters.\n",
    "\n",
    "If you want to pass several arguments, we use \"&\" as a separator."
   ]
  },
  {
   "cell_type": "markdown",
   "id": "570a1577-61d1-4a77-a126-96ea4738fb7d",
   "metadata": {
    "tags": [
     "en"
    ]
   },
   "source": [
    "#### Payload\n",
    "\n",
    "Payload are the values a user sends or receive.\n",
    "\n",
    "In the last example the query parameters are : ``max_length=48``. The parameter is ``max_length`` and the payload is ``48``.\n",
    "\n",
    "In the response we got earlier which was :\n",
    "\n",
    "python\n",
    "``{\"fact\":\"Owning a cat is actually proven to be beneficial for your health.\",\"length\":65}``\n",
    "\n",
    "The payload is \"Owning a cat is actually proven to be beneficial for your health.\" and \"65\". The rest is referred as *overhead data*.\n",
    "\n"
   ]
  },
  {
   "cell_type": "markdown",
   "id": "056b2213-1216-45d3-8e7b-b86a41146e46",
   "metadata": {
    "tags": [
     "en"
    ]
   },
   "source": [
    "## Exercice\n",
    "\n",
    "Read the API documentation here: https://catfact.ninja/docs/api-docs.json (which is stored in a JSON!) and send a request to the endpoint ``/facts`` (plural) using two parameters using your browser."
   ]
  },
  {
   "cell_type": "markdown",
   "id": "2489e85d-5636-44f6-bfc7-e1d7c74fa319",
   "metadata": {
    "tags": [
     "en"
    ]
   },
   "source": [
    "## Python\n",
    "\n",
    "The library ``requests`` allows the user to use the HTTP protocol with python, thus making it an efficient way to use APIs."
   ]
  },
  {
   "cell_type": "code",
   "execution_count": 2,
   "id": "f8bf4a59-712c-48bc-802a-1765203376d8",
   "metadata": {},
   "outputs": [],
   "source": [
    "import requests"
   ]
  },
  {
   "cell_type": "code",
   "execution_count": 4,
   "id": "5e43baf6-91fe-44dd-adc4-98799ee1c4bf",
   "metadata": {},
   "outputs": [],
   "source": [
    "url = 'https://catfact.ninja/'\n",
    "fact_endpoint = 'fact'\n",
    "response = requests.get(url + fact_endpoint) # Let's use the 'get' method"
   ]
  },
  {
   "cell_type": "code",
   "execution_count": 6,
   "id": "22f74ee6-c2d1-4eb3-8110-951a129841cb",
   "metadata": {},
   "outputs": [
    {
     "data": {
      "text/plain": [
       "requests.models.Response"
      ]
     },
     "execution_count": 6,
     "metadata": {},
     "output_type": "execute_result"
    }
   ],
   "source": [
    "type(response)"
   ]
  },
  {
   "cell_type": "markdown",
   "id": "ec7a8ed5-04e8-43db-be76-5a63c37d9ba4",
   "metadata": {
    "tags": [
     "en"
    ]
   },
   "source": [
    "A Response object has many different properties and methods. We are going to use the ``.json()`` which will convert the response to a dictionnary."
   ]
  },
  {
   "cell_type": "code",
   "execution_count": 22,
   "id": "9f955108-5879-421b-95be-6a560f98db67",
   "metadata": {},
   "outputs": [],
   "source": [
    "r = response.json()"
   ]
  },
  {
   "cell_type": "code",
   "execution_count": 23,
   "id": "9eddd700-8ebd-4780-a011-bea68e661542",
   "metadata": {},
   "outputs": [
    {
     "name": "stdout",
     "output_type": "stream",
     "text": [
      "{'fact': 'Unlike other cats, lions have a tuft of hair at the end of their tails.', 'length': 71}\n"
     ]
    }
   ],
   "source": [
    "print(r)"
   ]
  },
  {
   "cell_type": "code",
   "execution_count": 24,
   "id": "a0c6104c-0edb-4314-b9cf-4d4cd4ac3035",
   "metadata": {},
   "outputs": [
    {
     "data": {
      "text/plain": [
       "dict"
      ]
     },
     "execution_count": 24,
     "metadata": {},
     "output_type": "execute_result"
    }
   ],
   "source": [
    "type(r)"
   ]
  },
  {
   "cell_type": "code",
   "execution_count": 25,
   "id": "59663301-5092-4b4d-bb32-8a03ff1e2185",
   "metadata": {},
   "outputs": [
    {
     "data": {
      "text/plain": [
       "'Unlike other cats, lions have a tuft of hair at the end of their tails.'"
      ]
     },
     "execution_count": 25,
     "metadata": {},
     "output_type": "execute_result"
    }
   ],
   "source": [
    "r['fact']"
   ]
  },
  {
   "cell_type": "code",
   "execution_count": 26,
   "id": "74679d1f-c441-4ec1-87e9-c516497cf682",
   "metadata": {},
   "outputs": [
    {
     "data": {
      "text/plain": [
       "71"
      ]
     },
     "execution_count": 26,
     "metadata": {},
     "output_type": "execute_result"
    }
   ],
   "source": [
    "r['length']"
   ]
  },
  {
   "cell_type": "markdown",
   "id": "55c45a29-c27a-4033-acba-1dac5657c04f",
   "metadata": {
    "tags": [
     "en"
    ]
   },
   "source": [
    "## Parameters\n",
    "\n",
    "If we want to use parameters we can just add them at the end of the ``requests.get()`` arguments, like this :"
   ]
  },
  {
   "cell_type": "code",
   "execution_count": 28,
   "id": "9301f089-ca73-482a-b96a-71e20a1aa5b4",
   "metadata": {},
   "outputs": [
    {
     "name": "stdout",
     "output_type": "stream",
     "text": [
      "{'fact': 'Female felines are \\\\superfecund', 'length': 31}\n"
     ]
    }
   ],
   "source": [
    "response = requests.get('https://catfact.ninja/fact?max_height=48')\n",
    "print(response.json())"
   ]
  },
  {
   "cell_type": "markdown",
   "id": "de7a54aa-d5fe-4a56-9953-f35f8a1d8cf0",
   "metadata": {
    "tags": [
     "en"
    ]
   },
   "source": [
    "But sometimes it's best to give a dict of arguments, the syntax is then :"
   ]
  },
  {
   "cell_type": "code",
   "execution_count": 62,
   "id": "a1cf9aac-be06-49cf-8502-51058359e658",
   "metadata": {
    "tags": [
     "en"
    ]
   },
   "outputs": [
    {
     "name": "stdout",
     "output_type": "stream",
     "text": [
      "https://catfact.ninja/fact?max_length=24\n",
      "{'fact': 'Cats walk on their toes.', 'length': 24}\n"
     ]
    }
   ],
   "source": [
    "my_params = {'max_length' : 24}\n",
    "\n",
    "response = requests.get('https://catfact.ninja/fact', params=my_params)\n",
    "print(response.url)\n",
    "print(response.json())"
   ]
  },
  {
   "cell_type": "markdown",
   "id": "b9d01efc-2781-4fb5-862e-223f48b5ca36",
   "metadata": {
    "tags": [
     "en"
    ]
   },
   "source": [
    "## Exercice (easy)\n",
    "\n",
    "Using a ``for`` loop, populate the dictionnary named \"d\" with 5 random facts that do not exceed 67 characters.\n",
    "\n",
    "The key of your dictionnary must be integers ranging from 0 to 9, the value is the fact.\n",
    "\n",
    "**TIPS**\n",
    "\n",
    "- Use ``range()`` with ``for`` to specify how many times you want to loop.\n",
    "- You can use ``for k, v in d.items() : print(k, v)`` at the end of your code for a better display of your results."
   ]
  },
  {
   "cell_type": "code",
   "execution_count": null,
   "id": "992e6d98-b957-4da6-b7bb-f5c0a5e16205",
   "metadata": {
    "tags": [
     "en"
    ]
   },
   "outputs": [],
   "source": [
    "url = 'https://catfact.ninja/'\n",
    "fact_endpoint = 'fact'\n",
    "\n",
    "d = {}\n",
    "\n",
    "# Code here!\n"
   ]
  },
  {
   "cell_type": "markdown",
   "id": "c0788066-e387-451b-934e-67d9fecaea39",
   "metadata": {
    "tags": [
     "en"
    ]
   },
   "source": [
    "## Exercice (medium)\n",
    "\n",
    "Same thing than previous exercice but this time use a ``while`` loop to complete your dictionnary until you have 5 facts which length is inferior to 67 but superior or equal to 52.\n",
    "\n",
    "Filter in the loop and add a new entry in the dictionnary only if the requirements are met.\n",
    "\n",
    "Also now the value of the dictionnary contains both the list and its length. Use a list where the first element is the fact and the second element is the number of characters (the length) of the fact.\n",
    "\n",
    "**TIPS**\n",
    "\n",
    "- Careful, as we don't use the ``range()`` function you need to create a new variable to create the keys.\n",
    "- Killing and restarting the kernel might be a good idea to clean up all variables.\n",
    "- Use esc + i i to exit an infinite loop."
   ]
  },
  {
   "cell_type": "code",
   "execution_count": null,
   "id": "b734c4c7-fe66-4bb0-af96-3d4937b77db0",
   "metadata": {
    "tags": [
     "en"
    ]
   },
   "outputs": [],
   "source": [
    "url = 'https://catfact.ninja/'\n",
    "fact_endpoint = 'fact'\n",
    "my_params = {'max_length' : 67}\n",
    "\n",
    "d = {}\n",
    "\n",
    "# Code here"
   ]
  }
 ],
 "metadata": {
  "kernelspec": {
   "display_name": "Python 3 (ipykernel)",
   "language": "python",
   "name": "python3"
  },
  "language_info": {
   "codemirror_mode": {
    "name": "ipython",
    "version": 3
   },
   "file_extension": ".py",
   "mimetype": "text/x-python",
   "name": "python",
   "nbconvert_exporter": "python",
   "pygments_lexer": "ipython3",
   "version": "3.10.8"
  }
 },
 "nbformat": 4,
 "nbformat_minor": 5
}
