{
 "cells": [
  {
   "cell_type": "markdown",
   "id": "2159b5fa-2697-455d-a469-26ef341dc9b3",
   "metadata": {},
   "source": [
    "# Build and deploy a local model"
   ]
  },
  {
   "cell_type": "markdown",
   "id": "46fe346b-1d49-4b8c-a08e-25a98c457ed7",
   "metadata": {},
   "source": [
    "## Titanic model\n",
    "\n",
    "- Use an already made model or build a ML model and then use a FAST API application to predict the survival rate of someone.\n",
    "- You can also predict the probability of survival."
   ]
  },
  {
   "cell_type": "markdown",
   "id": "abce5b78-4909-45f5-a9b3-b1f0e223c83c",
   "metadata": {},
   "source": [
    "## Dataset\n",
    "\n",
    "You can use this one for example:\n",
    "    \n",
    "[titanic dataset]('https://raw.githubusercontent.com/datasciencedojo/datasets/master/titanic.csv')"
   ]
  },
  {
   "cell_type": "markdown",
   "id": "3f246262-d9a0-4179-942e-56138966c335",
   "metadata": {},
   "source": [
    "## Hints\n",
    "\n",
    "- To build an API, it's usually easier to use a python file and not a ipynb. Use VS Code or an other IDE rather than jupyter.\n",
    "- You'll have to export and import the model. Using the library \"pickle\" or \"joblib\" seems a good idea."
   ]
  }
 ],
 "metadata": {
  "kernelspec": {
   "display_name": "Python 3 (ipykernel)",
   "language": "python",
   "name": "python3"
  },
  "language_info": {
   "codemirror_mode": {
    "name": "ipython",
    "version": 3
   },
   "file_extension": ".py",
   "mimetype": "text/x-python",
   "name": "python",
   "nbconvert_exporter": "python",
   "pygments_lexer": "ipython3",
   "version": "3.11.0"
  }
 },
 "nbformat": 4,
 "nbformat_minor": 5
}
